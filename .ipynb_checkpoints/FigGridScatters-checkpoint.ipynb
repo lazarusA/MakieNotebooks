{
 "cells": [
  {
   "cell_type": "markdown",
   "metadata": {},
   "source": [
    "- By [lazarusA](https://lazarusa.github.io/Webpage/index.html)"
   ]
  },
  {
   "cell_type": "code",
   "execution_count": null,
   "metadata": {},
   "outputs": [],
   "source": [
    "using CairoMakie, Random\n",
    "include(\"makieTheme1.jl\") # don't forget to include the theme. \n",
    "\n",
    "Random.seed!(123)\n",
    "n = 15\n",
    "x, y, color = rand(n), rand(n), rand(n)\n",
    "cmaps = [:cool, :viridis, :plasma, :inferno, :thermal,\n",
    "    :leonardo, :winter, :spring, :ice]\n",
    "markers = [:+, :diamond, :star4, :rtriangle, :rect,\n",
    "    :circle, :pentagon, :cross, :star5];\n",
    "\n",
    "function FigGridScatters()\n",
    "    fig = Figure(resolution = (700, 400), font =:sans)\n",
    "    c = 1\n",
    "    for i in 1:2, j in 1:2:5\n",
    "        ax = fig[i, j] = Axis(fig, aspect = 1, # aspect = DataAspect(), \n",
    "            show_grid = false, xtickalign=1, ytickalign=1)\n",
    "        pnts = scatter!(x, y.^c, color = color, colormap=cmaps[c], \n",
    "            markersize = 10, marker = markers[c], strokewidth=0)\n",
    "        limits!(ax, -0.1,1.1,-0.1,1.1)\n",
    "        ax.xticks = [0,1]\n",
    "        ax.yticks = [0,1]\n",
    "        ax.xticklabelsize = 14\n",
    "        ax.yticklabelsize = 14\n",
    "\n",
    "        cbar = Colorbar(fig, pnts, height = Relative(3.7/4), tickwidth = 2)\n",
    "        fig[i, j+1] = cbar\n",
    "        c+=1\n",
    "    end\n",
    "    fig\n",
    "end\n",
    "fig = FigGridScatters()\n",
    "#save(\"/results/FigGridScatters.svg\", fig, pt_per_unit = 0.7);\n",
    "#save(\"./results/FigGridScatters.png\", fig, px_per_unit = 2)\n",
    "fig"
   ]
  },
  {
   "cell_type": "code",
   "execution_count": null,
   "metadata": {},
   "outputs": [],
   "source": []
  }
 ],
 "metadata": {
  "kernelspec": {
   "display_name": "Julia 1.6.0",
   "language": "julia",
   "name": "julia-1.6"
  },
  "language_info": {
   "file_extension": ".jl",
   "mimetype": "application/julia",
   "name": "julia",
   "version": "1.6.0"
  }
 },
 "nbformat": 4,
 "nbformat_minor": 2
}
